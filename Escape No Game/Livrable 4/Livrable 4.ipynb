{
 "cells": [
  {
   "cell_type": "markdown",
   "id": "474c0d0f",
   "metadata": {},
   "source": [
    "<h1><center><u>Escape No Game</u></center></h1>\n",
    "\n",
    "<center><img src=\"https://st2.depositphotos.com/1025323/8999/i/450/depositphotos_89990792-stock-photo-signal-processing-background.jpg\" alt=\"Alternative text\" /></center>"
   ]
  },
  {
   "cell_type": "markdown",
   "id": "fc233fda",
   "metadata": {},
   "source": [
    "## <center><u>Livrable 4</u> : Modélisation Numérique</center>\n"
   ]
  },
  {
   "cell_type": "markdown",
   "id": "cdf7a68b",
   "metadata": {},
   "source": [
    "### <center><u>Sommaire</u></center>\n",
    "\n",
    "#### <u>1] Reconstitution de l’ensemble de la chaîne de transmission pouvant fonctionner à partir de n’importe quelle entrée de type texte.</u><br><br>\n",
    "#### <u>2] Intégration du système de détection d’erreurs dans le prototype.</u><br><br>\n",
    "#### <u>3] Mise en place d’une technique de détection d’erreur dans la transmission de données numériques</u><br><br>\n",
    "#### <u>4] Utilisation d’un second type de modulation</u><br><br>"
   ]
  },
  {
   "cell_type": "markdown",
   "id": "93d18f9a",
   "metadata": {},
   "source": [
    "### <center><u>Contexte du projet</u></center>\n",
    "Le département Recherche et Développement de l'Agence AIL3C a pour mission de créer des solutions innovantes pour aider ses agents sur le terrain. Malgré leurs inventions notables telles que les masques-peaux et les cigares-pistolet, une récente mission a entraîné la perte de l'agent K57. Après avoir localisé une base de cyberpirates grâce à des signaux réseau, l'agent K57 a réussi à infiltrer la salle des serveurs mais s'est retrouvé coincé dans une salle de conférence sans accès réseau. La situation a conduit à sa découverte et à son échec. Le département est maintenant chargé de trouver une solution technique pour permettre la communication vers l'extérieur dans de telles situations, où le seul accessoire disponible était un micro connecté au système d'audioconférence, uniquement actif lors de l’utilisation de la salle."
   ]
  },
  {
   "cell_type": "markdown",
   "id": "0ec89857",
   "metadata": {},
   "source": [
    "### <center><u>Contexte du livrable 4 : </u></center> \n",
    "Notre chaîne transmission ayant été justifié et expliqué dans notre Proof-Of-Concept, nous devons maintenant passer à l’application en simulant notre chaîne numériquement via Python."
   ]
  },
  {
   "cell_type": "markdown",
   "id": "a6324346",
   "metadata": {},
   "source": [
    "### <center><u>Objectif du livrable 4 : </u></center>  \n",
    "Nous devons établir un code python intégrant les différentes étapes de la chaîne ainsi que les commentaires nécessaires pour que ce dernier soit compréhensible, puis afin d’impressionner le comité de pilotage, nous devrons intégrer 2 fonctionnalités supplémentaires parmi celles proposés :\n",
    "\n",
    "    -> L'envoi et la reconstitution d'un message de type son.\n",
    "    -> La gestion de la réception d'un signal avec bruit.\n",
    "    -> L'utilisation d'une liaison half-duplex (accusé de réception).\n",
    "    -> Un CRC ou un code de correction d'erreur.\n",
    "    -> La simulation entre 2 PC (l'un pour la génération du son correspondant au message à envoyer, l'autre pour la réception et la reconstruction du message).\n",
    "    -> La mise en œuvre d'un second type de modulation/démodulation.\n"
   ]
  },
  {
   "cell_type": "markdown",
   "id": "9c0809e5",
   "metadata": {},
   "source": [
    "## Modulation & Démodulation d'amplitude (FSK):"
   ]
  },
  {
   "cell_type": "markdown",
   "id": "28a0ecff",
   "metadata": {},
   "source": [
    "## <u>Documentation du Code \"Modulation FSK avec Contrôle\"</u>\n",
    "\n",
    "#### Introduction\n",
    "Le code présent réalise une modulation de fréquence par déplacement de fréquence (FSK) avec ajout de contrôle de parité pour la transmission d'un message. La phase d'émission implique la conversion d'un message texte en trames binaires, ajout d'un bit de parité (somme de contrôle), puis modulation FSK. La phase de réception décode le signal modulé, détecte les erreurs grâce à la somme de contrôle, puis reconstruit le message original.\n",
    "\n",
    "#### <u>Phase d'Émission</u>\n",
    "\n",
    "1. Entrée du Message :\n",
    "    - L'utilisateur est invité à saisir un message à moduler.\n",
    "    \n",
    "2. Conversion en Trames Binaires :\n",
    "    - Le message est converti en trames binaires de 8 bits chacune- .\n",
    "    \n",
    "3. Calcul de la Somme de Contrôle :\n",
    "    - Une fonction calculer_somme_controle est définie pour calculer le bit de parité (somme de contrôle) de chaque trame.\n",
    "    \n",
    "4. Ajout de la Somme de Contrôle :\n",
    "    - La somme de contrôle est ajoutée à chaque trame binaire.\n",
    "    \n",
    "5. Modulation FSK avec Contrôle :\n",
    "    - Le signal est modulé en FSK pour chaque bit de la trame avec les fréquences correspondant à '0' et '1'.\n",
    "    - La modulation est réalisée à l'aide de sinusoïdes de fréquences spécifiques.\n",
    "    \n",
    "6. Enregistrement du Signal Modulé :\n",
    "    - Le signal modulé est enregistré dans un fichier audio.\n",
    "\n",
    "#### <u>Phase de Réception</u>\n",
    "\n",
    "1. Récupération du Signal :\n",
    "    - Le signal sonore modulé est récupéré à partir du fichier audio.\n",
    "    \n",
    "2. Démodulation FSK avec Contrôle :\n",
    "    - Une fonction demoduler_fsk_avec_controle est définie pour démoduler le signal FSK.\n",
    "    - La corrélation entre l'échantillon reçu et les fréquences de modulation est calculée pour chaque bit.\n",
    "    \n",
    "3. Vérification de la Somme de Contrôle :\n",
    "    - La somme de contrôle est vérifiée pour chaque trame reçue.\n",
    "    \n",
    "4. Reconstruction du Message :\n",
    "    - Une fonction reconstruire_message_avec_controle reconstruit le message original à partir des bits reçus en vérifiant la somme de contrôle.\n",
    "    \n",
    "5. Affichage des Résultats :\n",
    "    - Les bits reçus, les erreurs détectées et le message reconstruit sont affichés.\n",
    "    \n",
    "6. Affichage du Signal Reçu :\n",
    "    - Un graphique du signal reçu est affiché à l'aide de la bibliothèque Matplotlib.\n",
    "    \n",
    "<u>Information</u>\n",
    "\n",
    "    - Le seuil de détection est défini pour décider du bit reçu.\n",
    "    - La gestion des erreurs détectées est effectuée pendant la reconstruction du message.\n",
    "     \n",
    "#### Utilisation\n",
    "- Saisissez le message à moduler (entre 5 et 10 caractères).\n",
    "- Le programme effectue la modulation, enregistre le signal, puis effectue la démodulation, vérifie la somme de contrôle, et reconstruit le message.\n",
    "- Les résultats et le graphique du signal sont affichés.\n"
   ]
  },
  {
   "cell_type": "markdown",
   "id": "566cb77f",
   "metadata": {},
   "source": [
    "### Code Modulation / Démodulation FSK"
   ]
  },
  {
   "cell_type": "markdown",
   "id": "c2d663b2",
   "metadata": {},
   "source": [
    "#### Bloc 1: Importation des bibliothèques\n",
    "Ce bloc importe les bibliothèques nécessaires (numpy, soundfile, matplotlib.pyplot).<br>\n"
   ]
  },
  {
   "cell_type": "code",
   "execution_count": 86,
   "id": "306b9651",
   "metadata": {},
   "outputs": [],
   "source": [
    "import numpy as np\n",
    "import soundfile as sf\n",
    "import matplotlib.pyplot as plt"
   ]
  },
  {
   "cell_type": "markdown",
   "id": "8a689adc",
   "metadata": {},
   "source": [
    "#### Bloc 2 : Fonctions de modulation et émission\n",
    "Dans cette section, la fonction modulation1 prend un message en entrée, le transforme en trames binaires, ajoute des bits de parité (somme de contrôle) à chaque trame, puis module ces trames en un signal sonore FSK.<br>\n",
    "Le signal résultant est ensuite enregistré dans un fichier audio WAV.\n"
   ]
  },
  {
   "cell_type": "code",
   "execution_count": null,
   "id": "469fbca1",
   "metadata": {},
   "outputs": [],
   "source": [
    "message = input(\"Message à moduler : \")  # Message à transformer en trame\n",
    "if len(message) <= 10 and len(message) >= 5:\n",
    "    trames = [format(ord(char), '08b') for char in message]\n",
    "else:\n",
    "    print(\"Le message est trop long ou trop court\")\n",
    "\n",
    "\n",
    "# Fonction pour calculer la somme de contrôle (bit de parité)\n",
    "def calculer_somme_controle(trame):\n",
    "    return str(sum(map(int, trame)) % 2)\n",
    "\n",
    "# Ajouter une somme de contrôle à chaque trame\n",
    "trames_avec_controle = [trame + calculer_somme_controle(trame) for trame in trames]\n",
    "\n",
    "# Modulation des trames en signal sonore\n",
    "freq_bit0 = 19900  # Fréquence pour bit 0 (au-delà de la plage d'audition humaine)\n",
    "freq_bit1 = 22000  # Fréquence pour bit 1 (au-delà de la plage d'audition humaine)\n",
    "echantillonage = 44100  # Taux d'échantillonnage en Hz\n",
    "\n",
    "def moduler_fsk_avec_controle(trame):\n",
    "    signal_module = []\n",
    "    for bit in trame:\n",
    "        if bit == '0':\n",
    "            signal_module.extend(np.sin(2 * np.pi * freq_bit0 * np.arange(0, duree_bit, 1 / echantillonage)))\n",
    "        elif bit == '1':\n",
    "            signal_module.extend(np.sin(2 * np.pi * freq_bit1 * np.arange(0, duree_bit, 1 / echantillonage)))\n",
    "    return np.array(signal_module)\n",
    "\n",
    "# Émission du signal sonore avec contrôle\n",
    "signal_emis_fsk_avec_controle = np.concatenate([moduler_fsk_avec_controle(trame) for trame in trames_avec_controle])\n",
    "sf.write('signal_emis_avec_controle.wav', signal_emis_fsk_avec_controle, echantillonage)\n",
    "\n",
    "\n",
    "plt.plot(signal_emis_fsk_avec_controle[:500])\n",
    "plt.title('Échantillon du Signal Émis (FSK avec contrôle)')\n",
    "plt.xlabel('Échantillons')\n",
    "plt.ylabel('Amplitude')\n",
    "plt.show()"
   ]
  },
  {
   "cell_type": "markdown",
   "id": "67a3479c",
   "metadata": {},
   "source": [
    "#### Bloc 3: Phase de réception - Récupération du signal sonore\n",
    "Ce bloc récupère le signal sonore enregistré et le taux d'échantillonnage associé.\n",
    "\n"
   ]
  },
  {
   "cell_type": "code",
   "execution_count": null,
   "id": "24722a99",
   "metadata": {},
   "outputs": [],
   "source": [
    "# Je récupère le signal sonore\n",
    "signal_recu, taux_echantillonnage = sf.read('signal_emis_avec_controle.wav')"
   ]
  },
  {
   "cell_type": "markdown",
   "id": "00ecd82c",
   "metadata": {},
   "source": [
    "#### Bloc 4 : Démodulation FSK avec contrôle\n",
    "Ce bloc définit la fonction demoduler_fsk_avec_controle qui prend le signal reçu en entrée et effectue la démodulation FSK avec contrôle. Les bits reçus sont stockés dans la liste bits_recus_avec_controle."
   ]
  },
  {
   "cell_type": "code",
   "execution_count": 89,
   "id": "1b547cc6",
   "metadata": {},
   "outputs": [],
   "source": [
    "# Démodulation FSK avec contrôle\n",
    "def demoduler_fsk_avec_controle(signal_recu):\n",
    "    bits_recus = []\n",
    "    seuil_detection = 0.5\n",
    "\n",
    "    for i in range(0, len(signal_recu), int(duree_bit * taux_echantillonnage)):\n",
    "        echantillon = signal_recu[i:i + int(duree_bit * taux_echantillonnage)]\n",
    "\n",
    "        # Calculer la corrélation entre l'échantillon et les fréquences de modulation\n",
    "        corrélation_bit0 = np.abs(np.correlate(echantillon, np.sin(2 * np.pi * freq_bit0 * np.arange(0, duree_bit, 1 / taux_echantillonnage)), mode='valid'))\n",
    "        corrélation_bit1 = np.abs(np.correlate(echantillon, np.sin(2 * np.pi * freq_bit1 * np.arange(0, duree_bit, 1 / taux_echantillonnage)), mode='valid'))\n",
    "\n",
    "        # Décider du bit en fonction de la corrélation maximale\n",
    "        bit_recu = '0' if np.max(corrélation_bit0) > seuil_detection * np.max(corrélation_bit1) else '1'\n",
    "        bits_recus.append(bit_recu)\n",
    "\n",
    "    return bits_recus"
   ]
  },
  {
   "cell_type": "markdown",
   "id": "e08e7ff8",
   "metadata": {},
   "source": [
    "#### Bloc 5 : Vérification des erreurs\n",
    "Ce bloc complète la vérification des erreurs en reconstruisant les trames reçues, enlevant le dernier bit qui est la somme de contrôle, puis comparant la somme de contrôle attendue avec celle reçue."
   ]
  },
  {
   "cell_type": "code",
   "execution_count": 90,
   "id": "4067bde5",
   "metadata": {},
   "outputs": [],
   "source": [
    "# Utilisation de la démodulation FSK avec contrôle\n",
    "bits_recus_avec_controle = demoduler_fsk_avec_controle(signal_recu)\n",
    "trames_recues_avec_controle = [''.join(bits_recus_avec_controle[i:i+9]) for i in range(0, len(bits_recus_avec_controle), 9)]\n",
    "messages_recus_avec_controle = [trame[:-1] for trame in trames_recues_avec_controle]  # Enlever le dernier bit qui est la somme de contrôle\n",
    "\n",
    "# Vérifier les erreurs\n",
    "erreurs_detectees = [trame[-1] != calculer_somme_controle(trame[:-1]) for trame in trames_recues_avec_controle]"
   ]
  },
  {
   "cell_type": "markdown",
   "id": "8960a934",
   "metadata": {},
   "source": [
    "#### Bloc 6: Reconstruction du message\n",
    "Ce bloc complète la fonction reconstruire_message_avec_controle, qui prend les bits reçus, vérifie la somme de contrôle pour chaque trame, et reconstruit le message en évitant les trames avec des erreurs. Le message reconstruit est ensuite stocké dans la variable message_reconstruit_avec_controle."
   ]
  },
  {
   "cell_type": "code",
   "execution_count": 91,
   "id": "abfcaf9c",
   "metadata": {},
   "outputs": [],
   "source": [
    "def reconstruire_message_avec_controle(bits_recus):\n",
    "    # Vérifier la somme de contrôle pour chaque trame\n",
    "    trames_recues = [''.join(bits_recus[i:i+9]) for i in range(0, len(bits_recus), 9)]\n",
    "\n",
    "    # Enlever le dernier bit qui est la somme de contrôle\n",
    "    messages_recus = [trame[:-1] for trame in trames_recues]\n",
    "\n",
    "    # Vérifier les erreurs et construire le message\n",
    "    message_reconstruit = ''\n",
    "    for i, trame in enumerate(trames_recues):\n",
    "        somme_controle_attendue = calculer_somme_controle(trame[:-1])\n",
    "        if trame[-1] == somme_controle_attendue:\n",
    "            message_reconstruit += chr(int(trame[:-1], 2))\n",
    "        else:\n",
    "            print(f\"Erreur détectée dans la trame {i + 1}. La somme de contrôle ne correspond pas.\")\n",
    "\n",
    "    return message_reconstruit\n",
    "\n",
    "bits_recus_avec_controle = demoduler_fsk_avec_controle(signal_recu)\n",
    "message_reconstruit_avec_controle = reconstruire_message_avec_controle(bits_recus_avec_controle)"
   ]
  },
  {
   "cell_type": "markdown",
   "id": "a7a7dd86",
   "metadata": {},
   "source": [
    "#### Bloc 7 : Affichage des résultats \n",
    "Affiche les résultats de la réception ainsi que le tracé du signal reçu"
   ]
  },
  {
   "cell_type": "code",
   "execution_count": 92,
   "id": "d2c8946a",
   "metadata": {},
   "outputs": [
    {
     "name": "stdout",
     "output_type": "stream",
     "text": [
      "Bits reçus (avec contrôle) : ['0', '1', '1', '0', '0', '0', '1', '0', '1', '0', '1', '1', '0', '1', '1', '1', '1', '0', '0', '1', '1', '0', '1', '1', '1', '0', '1', '0', '1', '1', '0', '1', '0', '1', '0', '0', '0', '1', '1', '0', '1', '1', '1', '1', '0', '0', '1', '1', '1', '0', '1', '0', '1', '1', '0', '1', '1', '1', '0', '0', '1', '0', '0']\n",
      "Erreurs détectées (True si erreur, False sinon) : [False, False, False, False, False, False, False]\n",
      "Message reçu: bonjour\n"
     ]
    },
    {
     "data": {
      "image/png": "[encoded data removed]",
      "text/plain": [
       "<Figure size 640x480 with 1 Axes>"
      ]
     },
     "metadata": {},
     "output_type": "display_data"
    }
   ],
   "source": [
    "print(\"Bits reçus (avec contrôle) :\", bits_recus_avec_controle)\n",
    "print(\"Erreurs détectées (True si erreur, False sinon) :\", erreurs_detectees)\n",
    "print(\"Message reçu:\", message_reconstruit_avec_controle)\n",
    "\n",
    "plt.plot(bits_recus_avec_controle[:500])\n",
    "plt.title('Échantillon du Signal Recu Démodulé (FSK avec contrôle)')\n",
    "plt.xlabel('Échantillons')\n",
    "plt.ylabel('Amplitude')\n",
    "plt.show()"
   ]
  },
  {
   "cell_type": "markdown",
   "id": "64482cbe",
   "metadata": {},
   "source": [
    "## Modulation & Démodulation d'amplitude (ASK):"
   ]
  },
  {
   "cell_type": "markdown",
   "id": "3d3097c6",
   "metadata": {},
   "source": [
    "## <u>Documentation du Code \"Modulation ASK avec Contrôle\"</u>\n",
    "\n",
    "#### Introduction\n",
    "Ce code est un script Python qui illustre le processus de modulation en amplitude ASK (Amplitude Shift Keying) avec encodage en Manchester d'un message texte. Le script génère également un fichier audio du signal modulé et le décode pour récupérer le message d'origine.<br><br>\n",
    "\n",
    "##### 1] Le code est divisé en plusieurs étapes distinctes : \n",
    "\n",
    "##### 1.1] Encodage du message en Manchester : \n",
    "\n",
    "=> La première étape consiste à lire un message texte à partir d'un fichier, le convertir en binaire ASCII, ajouter un code de vérification CRC, puis encoder ce message en Manchester. Ces étapes sont réalisées par les fonctions suivantes : \n",
    "\n",
    "    - ascii_en_binaire: Convertit le message ASCII en binaire.\n",
    "    \n",
    "    - ajouter_crc: Ajoute un code de vérification CRC (Cyclic Redundancy Check) au message binaire.\n",
    "    \n",
    "    - encoder_manchester: Encode le message binaire en utilisant la modulation de Manchester.\n",
    "\n",
    "\n",
    "##### 1.2] Modulation ASK (Amplitude Shift Keying)\n",
    "\n",
    "La deuxième étape consiste à moduler le signal en amplitude ASK en utilisant le signal de la porteuse. Les paramètres tels que la fréquence de la porteuse, le taux d'échantillonnage, et d'autres sont définis ici. Les fonctions impliquées dans cette étape sont :\n",
    "\n",
    "    - générer_signal_audio: Génère le signal audio modulé en utilisant ASK.\n",
    "    \n",
    "    - enregistrer_audio: Enregistre le signal audio modulé dans un fichier.\n",
    "\n",
    "\n",
    "##### 1.3] Démodulation ASK et Décodage\n",
    "\n",
    "La troisième étape consiste à démoduler le signal audio ASK, puis à décoder le message binaire. Les étapes spécifiques comprennent :\n",
    "\n",
    "    - La démodulation ASK du signal audio.\n",
    "    \n",
    "    - Le décodage du message binaire démodulé en utilisant la modulation de Manchester.\n",
    "    \n",
    "    - La vérification de l'intégrité du message à l'aide du CRC.\n",
    "    \n",
    "##### 1.4]  Affichage des Résultats\n",
    "\n",
    "Enfin, le code affiche le signal modulé, la porteuse, et le signal ASK modulé dans trois sous-graphiques distincts.\n",
    "\n",
    "##### 2] Execution du code \n",
    "\n",
    "Le script doit être exécuté avec Python. Lors de l'exécution, l'utilisateur sera invité à saisir le message à moduler. Le message doit avoir une longueur comprise entre 5 et 10 caractères inclus. Si la longueur du message n'est pas valide, un message d'erreur est affiché.\n",
    "\n",
    "\n",
    "##### 3] Résultats Affichés \n",
    "\n",
    "Le script affiche trois graphiques représentant le message dupliqué, la porteuse, et le signal modulé en ASK. De plus, il génère un fichier audio \"ASK.wav\" contenant le signal modulé. Enfin, le script affiche le message d'origine décodé à partir du signal démodulé, et il vérifie l'intégrité du message à l'aide du CRC.\n",
    "\n",
    "#### Utilisation\n",
    "- Saisissez le message dans un fichier .txt dans le répertoire spécifié\n",
    "- Le programme effectue la modulation, enregistre le signal, puis effectue la démodulation, vérifie et corrige les potentielles erreurs (CRC), et reconstruit le message.\n",
    "- Les résultats et le graphique du signal sont affichés."
   ]
  },
  {
   "cell_type": "markdown",
   "id": "e6143930",
   "metadata": {
    "collapsed": true
   },
   "source": [
    "### Code Modulation / Démodulation ASK"
   ]
  },
  {
   "cell_type": "markdown",
   "id": "b3dbc9b3",
   "metadata": {},
   "source": [
    "#### Bloc 1: Importation des Bibliothèques\n",
    "\n",
    "Dans ce bloc, nous importons les bibliothèques nécessaires pour effectuer différentes opérations. numpy est utilisé pour les calculs numériques, matplotlib.pyplot pour les graphiques, soundfile pour la manipulation de fichiers audio, et binascii pour les opérations binaires ASCII."
   ]
  },
  {
   "cell_type": "code",
   "execution_count": 2,
   "id": "5485d971",
   "metadata": {},
   "outputs": [],
   "source": [
    "import numpy as np\n",
    "import matplotlib.pyplot as plt\n",
    "import soundfile as sf\n",
    "import binascii"
   ]
  },
  {
   "cell_type": "markdown",
   "id": "22d3cd1b",
   "metadata": {},
   "source": [
    "#### Bloc 2: Définition des Fonctions\n",
    "\n",
    "Ce bloc définit plusieurs fonctions utilisées tout au long du script :\n",
    "\n",
    "    - ascii_en_binaire: Convertit une chaîne de caractères ASCII en une chaîne binaire.\n",
    "    \n",
    "    - encoder_manchester: Encode une chaîne binaire en utilisant la modulation de Manchester.\n",
    "    \n",
    "    - générer_signal_audio: Génère un signal audio modulé (ASK).\n",
    "    \n",
    "    - enregistrer_audio: Enregistre le signal audio dans un fichier.\n",
    "    \n",
    "    - ajouter_crc: Ajoute un code de vérification CRC à une chaîne binaire."
   ]
  },
  {
   "cell_type": "code",
   "execution_count": null,
   "id": "72c5d731",
   "metadata": {},
   "outputs": [],
   "source": [
    "def ascii_en_binaire(ascii_string):\n",
    "    return ''.join(format(ord(char), '08b') for char in ascii_string)\n",
    "\n",
    "def encoder_manchester(chaine_binaire):\n",
    "    manchester_encodé = ''\n",
    "    for bit in chaine_binaire:\n",
    "        if bit == '0':\n",
    "            manchester_encodé += '01'\n",
    "        elif bit == '1':\n",
    "            manchester_encodé += '10'\n",
    "    return manchester_encodé\n",
    "\n",
    "def générer_signal_audio(t, ASK):\n",
    "    audio_signal = ASK  \n",
    "    Fs = 44100\n",
    "    return audio_signal, Fs\n",
    "\n",
    "def enregistrer_audio(chemin_fichier, audio_signal, Fs):\n",
    "    sf.write(chemin_fichier, audio_signal, Fs)\n",
    "\n",
    "def ajouter_crc(chaine_binaire):\n",
    "    crc32 = binascii.crc32(chaine_binaire.encode())\n",
    "    crc_binaire = format(crc32, '032b')\n",
    "    return chaine_binaire + crc_binaire"
   ]
  },
  {
   "cell_type": "markdown",
   "id": "efa9f1ea",
   "metadata": {},
   "source": [
    "#### Bloc 3: Lecture du Fichier et Préparation du Message\n",
    "\n",
    "Dans ce bloc, le script lit le contenu d'un fichier texte, convertit ce contenu en binaire ASCII, ajoute un code CRC, puis encode le tout en utilisant la modulation de Manchester."
   ]
  },
  {
   "cell_type": "code",
   "execution_count": 4,
   "id": "de009a1b",
   "metadata": {},
   "outputs": [],
   "source": [
    "# Chemin vers le fichier\n",
    "chemin_fichier = \"message.txt\"\n",
    "\n",
    "# Je lis le contenu du fichier\n",
    "try:\n",
    "    with open(chemin_fichier, 'r') as fichier:\n",
    "        contenu = fichier.read()\n",
    "except FileNotFoundError:\n",
    "    print(f\"Le fichier {chemin_fichier} n'a pas été trouvé.\")\n",
    "    contenu = \"\"\n",
    "\n",
    "# Convertir le texte en ASCII\n",
    "contenu_binaire = ascii_en_binaire(contenu)\n",
    "\n",
    "# Ajouter le CRC pendant l'encodage\n",
    "contenu_binaire_avec_crc = ajouter_crc(contenu_binaire)\n",
    "\n",
    "# Encoder le texte en Manchester\n",
    "contenu_encodé_manchester = encoder_manchester(contenu_binaire_avec_crc)"
   ]
  },
  {
   "cell_type": "markdown",
   "id": "d2bbd854",
   "metadata": {},
   "source": [
    "#### Bloc 4: Paramètres de Modulation ASK et Génération du Signal\n",
    "\n",
    "Ce bloc définit les paramètres pour la modulation ASK, notamment la fréquence de la porteuse, le taux d'échantillonnage, et d'autres. Ensuite, il crée une séquence temporelle t et effectue la modulation en amplitude ASK."
   ]
  },
  {
   "cell_type": "code",
   "execution_count": 5,
   "id": "9fea4011",
   "metadata": {},
   "outputs": [],
   "source": [
    "# Définir les paramètres de modulation ASK\n",
    "Fe = 44100\n",
    "Fp = 21000\n",
    "baud = 300\n",
    "Ns = int(Fe / baud)\n",
    "Nbits = len(contenu_encodé_manchester)\n",
    "N = Ns * Nbits\n",
    "\n",
    "# Créer une séquence temporelle\n",
    "t = np.arange(0, N / Fe, 1 / Fe)\n",
    "\n",
    "# Modulation en amplitude ASK\n",
    "Ap = 1\n",
    "Porteuse = Ap * np.sin(2 * np.pi * Fp * t)\n",
    "M_duplique = np.repeat([int(bit) for bit in contenu_encodé_manchester], Ns)\n",
    "ASK = Porteuse * M_duplique"
   ]
  },
  {
   "cell_type": "markdown",
   "id": "f783bcad",
   "metadata": {},
   "source": [
    "#### Bloc 5: Affichage des Graphiques ASK\n",
    "\n",
    "Ce bloc affiche trois sous-graphiques dans une figure Matplotlib. Le premier représente la duplication du message (M_duplique(t)), le deuxième représente la porteuse (Porteuse(t)), et le troisième représente le signal modulé ASK (Modulation ASK(t))."
   ]
  },
  {
   "cell_type": "code",
   "execution_count": 6,
   "id": "dc4264af",
   "metadata": {},
   "outputs": [
    {
     "data": {
      "image/png": "[encoded data removed]",
      "text/plain": [
       "<Figure size 640x480 with 3 Axes>"
      ]
     },
     "metadata": {},
     "output_type": "display_data"
    }
   ],
   "source": [
    "# Afficher le graphique ASK\n",
    "plt.subplot(3, 1, 1)\n",
    "plt.plot(t, M_duplique, color='b')\n",
    "plt.title('M_duplique(t)')\n",
    "plt.xlabel('Temps (s)')\n",
    "plt.ylabel('Amplitude')\n",
    "\n",
    "plt.subplot(3, 1, 2)\n",
    "plt.plot(t, Porteuse, color='b')\n",
    "plt.title('Porteuse(t)')\n",
    "plt.xlabel('Temps (s)')\n",
    "plt.ylabel('Amplitude')\n",
    "\n",
    "plt.subplot(3, 1, 3)\n",
    "plt.plot(t, ASK, color='b')\n",
    "plt.title('Modulation ASK(t)')\n",
    "plt.xlabel('Temps (s)')\n",
    "plt.ylabel('Amplitude')\n",
    "\n",
    "plt.tight_layout()\n",
    "plt.show()"
   ]
  },
  {
   "cell_type": "markdown",
   "id": "f917f97e",
   "metadata": {},
   "source": [
    "#### Bloc 6: Enregistrement du Signal Audio Modulé\n",
    "\n",
    "Ce bloc génère le fichier audio \"ASK.wav\" à partir du signal modulé et l'enregistre à l'aide de la fonction enregistrer_audio."
   ]
  },
  {
   "cell_type": "code",
   "execution_count": 7,
   "id": "894a6f8a",
   "metadata": {},
   "outputs": [],
   "source": [
    "# Générer et enregistrer le fichier audio à partir du signal ASK\n",
    "signal_audio, Fs = générer_signal_audio(t, ASK)\n",
    "enregistrer_audio(\"ASK.wav\", signal_audio, Fs)"
   ]
  },
  {
   "cell_type": "markdown",
   "id": "51c4871a",
   "metadata": {},
   "source": [
    "#### Bloc 7: Fonctions pour Décodage et Vérification du Message\n",
    "\n",
    "Dans ce bloc, trois fonctions sont définies :\n",
    "\n",
    "    - décoder_manchester: Décode une chaîne Manchester en une chaîne binaire.\n",
    "    \n",
    "    - binaire_en_ascii: Convertit une chaîne binaire en ASCII.\n",
    "    \n",
    "    - ajouter_crc: Ajoute un code de vérification CRC à une chaîne binaire."
   ]
  },
  {
   "cell_type": "code",
   "execution_count": 8,
   "id": "34c5c6e2",
   "metadata": {},
   "outputs": [],
   "source": [
    "def décoder_manchester(chaine_manchester):\n",
    "    chaine_binaire = ''\n",
    "    for i in range(0, len(chaine_manchester), 2):\n",
    "        if chaine_manchester[i:i + 2] == '01':\n",
    "            chaine_binaire += '0'\n",
    "        elif chaine_manchester[i:i + 2] == '10':\n",
    "            chaine_binaire += '1'\n",
    "    return chaine_binaire\n",
    "\n",
    "def binaire_en_ascii(chaine_binaire):\n",
    "    chaine_ascii = ''.join([chr(int(chaine_binaire[i:i + 8], 2)) for i in range(0, len(chaine_binaire), 8)])\n",
    "    return chaine_ascii\n",
    "\n",
    "def ajouter_crc(chaine_binaire):\n",
    "    crc32 = binascii.crc32(chaine_binaire.encode())\n",
    "    crc_binaire = format(crc32, '032b')\n",
    "    return chaine_binaire + crc_binaire"
   ]
  },
  {
   "cell_type": "markdown",
   "id": "dbc666d8",
   "metadata": {},
   "source": [
    "#### Bloc 8: Démodulation ASK et Décodage du Message Reçu\n",
    "\n",
    "Ce bloc charge le fichier audio \"ASK.wav\", effectue la démodulation ASK, puis décode le message démodulé."
   ]
  },
  {
   "cell_type": "code",
   "execution_count": 9,
   "id": "4056c6be",
   "metadata": {},
   "outputs": [],
   "source": [
    "# Charger le fichier audio\n",
    "chemin_fichier_audio = \"ASK.wav\"\n",
    "signal_audio, Fs = sf.read(chemin_fichier_audio)\n",
    "\n",
    "# Redéclarer les paramètres nécessaires\n",
    "Fe = 44100\n",
    "Fp = 21000\n",
    "baud = 300\n",
    "Ns = int(Fe / baud)\n",
    "\n",
    "# Démodulation ASK\n",
    "t = np.arange(0, len(signal_audio) / Fs, 1 / Fs)\n",
    "Porteuse = np.sin(2 * np.pi * Fp * t)\n",
    "Produit = signal_audio * Porteuse\n",
    "Résultat = []\n",
    "\n",
    "for i in range(0, len(signal_audio), Ns):\n",
    "    Résultat.append(np.trapz(Produit[i:i + Ns]))\n",
    "\n",
    "# Décodage du message démodulé\n",
    "message_démodulé_ASK = []\n",
    "\n",
    "for ii in range(0, len(Résultat)):\n",
    "    if Résultat[ii] > 0:\n",
    "        message_démodulé_ASK.append(int(1))\n",
    "    if Résultat[ii] <= 0:\n",
    "        message_démodulé_ASK.append(int(0))"
   ]
  },
  {
   "cell_type": "markdown",
   "id": "9240a025",
   "metadata": {},
   "source": [
    "#### Bloc 9: Conversion du Message Démodulé en Chaîne Manchester et Décodage\n",
    "\n",
    "Ce bloc convertit le message démodulé en une chaîne Manchester, puis décode cette chaîne en binaire. Enfin, il ajoute un code CRC pour vérifier l'intégrité du message."
   ]
  },
  {
   "cell_type": "code",
   "execution_count": 10,
   "id": "6e23135d",
   "metadata": {},
   "outputs": [],
   "source": [
    "# Convertir le message démodulé en chaîne Manchester\n",
    "contenu_encodé_manchester = ''.join(map(str, message_démodulé_ASK))\n",
    "\n",
    "# Décoder le texte Manchester\n",
    "contenu_binaire_décodé = décoder_manchester(contenu_encodé_manchester)\n",
    "\n",
    "# Ajouter le CRC au texte décodé\n",
    "contenu_binaire_décodé_avec_crc = ajouter_crc(contenu_binaire_décodé)"
   ]
  },
  {
   "cell_type": "markdown",
   "id": "18b22cc2",
   "metadata": {},
   "source": [
    "#### Bloc 10: Vérification de l'Intégrité du Message\n",
    "\n",
    "Ce bloc compare le code CRC reçu avec celui calculé à partir du message décodé pour vérifier l'intégrité du message. Un message est affiché en fonction du résultat."
   ]
  },
  {
   "cell_type": "code",
   "execution_count": 11,
   "id": "633bf856",
   "metadata": {},
   "outputs": [
    {
     "name": "stdout",
     "output_type": "stream",
     "text": [
      "Le message est intact. Pas d'erreur de transmission.\n"
     ]
    }
   ],
   "source": [
    "# Vérifier l'intégrité du message\n",
    "crc_reçu = contenu_binaire_décodé_avec_crc[-32:]\n",
    "crc_calculé = format(binascii.crc32(contenu_binaire_décodé.encode()), '032b')\n",
    "\n",
    "if crc_reçu == crc_calculé:\n",
    "    print(\"Le message est intact. Pas d'erreur de transmission.\")\n",
    "else:\n",
    "    print(\"Erreur de transmission. Le message peut être corrompu.\")"
   ]
  },
  {
   "cell_type": "markdown",
   "id": "41c71bf2",
   "metadata": {},
   "source": [
    "#### Bloc 11: Affichage du Contenu Décodé\n",
    "\n",
    "Enfin, ce bloc affiche le contenu d'origine décodé du fichier.\n",
    "\n"
   ]
  },
  {
   "cell_type": "code",
   "execution_count": 12,
   "id": "5c3a77b0",
   "metadata": {},
   "outputs": [
    {
     "name": "stdout",
     "output_type": "stream",
     "text": [
      "Contenu original décodé du fichier : auxence ca va_\"NÓõ\n"
     ]
    }
   ],
   "source": [
    "# Afficher le contenu original décodé du fichier\n",
    "contenu_ascii_décodé = binaire_en_ascii(contenu_binaire_décodé)\n",
    "print(\"Contenu original décodé du fichier :\", contenu_ascii_décodé)"
   ]
  },
  {
   "cell_type": "markdown",
   "id": "850acad3",
   "metadata": {},
   "source": [
    "Cela conclut la documentation des différentes étapes du script modulation2. Chaque bloc de code représente une étape spécifique du processus, de la préparation du message à l'affichage des résultats et à la vérification de l'intégrité du message."
   ]
  },
  {
   "cell_type": "markdown",
   "id": "57c6d480",
   "metadata": {},
   "source": [
    "### <center><u>Conclusion</u></center>\n",
    "\n",
    "En conclusion, la mise en œuvre d'un système de communication robuste et fiable est cruciale pour répondre aux besoins du projet, et nous avons pris des décisions stratégiques en choisissant d'intégrer deux fonctionnalités spécifiques parmi les options proposées.\n",
    "\n",
    "Intégrer un second type de modulation/démodulation apporte une diversité nécessaire pour évaluer différentes approches. Cela offre des avantages en termes de flexibilité et d'adaptabilité à divers scénarios de communication. Le script devra être étendu pour prendre en charge cette nouvelle méthode, avec des ajustements dans les fonctions de modulation, démodulation, et traitement du signal.\n",
    "\n",
    "L'ajout d'un CRC ou d'un code de correction d'erreur renforce la fiabilité de la communication en permettant la détection et/ou la correction d'erreurs potentielles lors de la transmission. Cela nécessitera une intégration spécifique dans le flux de traitement du message, y compris le calcul, l'ajout, et la vérification du CRC."
   ]
  },
  {
   "cell_type": "markdown",
   "id": "5d8a1bd4",
   "metadata": {},
   "source": [
    "### <u>Perspective</u>\n",
    "\n",
    "Nous avons bien travaillé tous ensemble sur ce livrable. On s’est tous partagé les tâches, puis on a mis en commun.<br> \n",
    "A travers ce livrable, nous avons pu apprendre à mieux utiliser Python ainsi que Jupyter de façon efficace et compréhensible.<br><br>\n",
    "<u>William Moreau-Blanguernon</u> : Notre travail de groupe sur la mise en place de notre Modulation / Démodulation ASK & FSK a été une expérience enrichissante. Chacun d'entre nous a apporté des compétences spécifiques à la table, ce qui a grandement contribué à la qualité globale du livrable. J'ai apprécié la façon dont nous avons pu résoudre les défis techniques ensemble et créer un produit final solide.<br><br>\n",
    "<u>Louis Mangin</u>: Ce livrable sur la mise en place de notre Modulation / Démodulation ASK & FSK a été un défi passionnant. Le travail d'équipe a été essentiel pour le succès du projet. Chacun d'entre nous a assumé des rôles spécifiques et a travaillé de manière synergique pour élaborer un travail construit.<br><br>\n",
    "<u>Axel Joly-Levert</u> : Travailler sur la mise en place de notre Modulation / Démodulation ASK & FSK dans le cadre de notre livrable a été une expérience gratifiante. Notre groupe a fait preuve d'une grande collaboration et de compétences techniques pour\n",
    "concevoir un travail solide. J'ai particulièrement apprécié la manière dont nous avons résolu les problèmes ensemble, en combinant nos connaissances pour atteindre nos objectifs."
   ]
  }
 ],
 "metadata": {
  "kernelspec": {
   "display_name": "Python 3 (ipykernel)",
   "language": "python",
   "name": "python3"
  },
  "language_info": {
   "codemirror_mode": {
    "name": "ipython",
    "version": 3
   },
   "file_extension": ".py",
   "mimetype": "text/x-python",
   "name": "python",
   "nbconvert_exporter": "python",
   "pygments_lexer": "ipython3",
   "version": "3.11.4"
  }
 },
 "nbformat": 4,
 "nbformat_minor": 5
}
